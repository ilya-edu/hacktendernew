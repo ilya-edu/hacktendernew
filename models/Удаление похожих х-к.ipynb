{
  "nbformat": 4,
  "nbformat_minor": 0,
  "metadata": {
    "colab": {
      "provenance": []
    },
    "kernelspec": {
      "name": "python3",
      "display_name": "Python 3"
    },
    "language_info": {
      "name": "python"
    }
  },
  "cells": [
    {
      "cell_type": "code",
      "execution_count": null,
      "metadata": {
        "id": "ljMgKKzNmuKo"
      },
      "outputs": [],
      "source": [
        "import pandas as pd\n",
        "data_1=pd.read_excel(\"TenderHack_msk.xlsx\",sheet_name=\"СТЕ\")\n",
        "data_2=pd.read_excel(\"TenderHack_msk.xlsx\",sheet_name=\"Характеристики\")"
      ]
    },
    {
      "cell_type": "code",
      "source": [
        "data_2.count()"
      ],
      "metadata": {
        "colab": {
          "base_uri": "https://localhost:8080/"
        },
        "id": "ERJ_M3DQWjzU",
        "outputId": "4387ab42-52cc-4597-a840-1bb226aac526"
      },
      "execution_count": null,
      "outputs": [
        {
          "output_type": "execute_result",
          "data": {
            "text/plain": [
              "ID характеристики                          897483\n",
              "Название характеристики                    897483\n",
              "ID конечной категории Портала              897483\n",
              "Наименование конечной категории Портала    897483\n",
              "Тип значения характеристики                897483\n",
              "dtype: int64"
            ]
          },
          "metadata": {},
          "execution_count": 7
        }
      ]
    },
    {
      "cell_type": "code",
      "source": [
        "\n",
        "from sklearn.feature_extraction.text import TfidfVectorizer\n",
        "from sklearn.metrics.pairwise import cosine_similarity\n",
        "\n",
        "\n",
        "similarity_threshold = 0.6\n",
        "vectorizer = TfidfVectorizer()\n",
        "\n",
        "def clean_characteristics(group):\n",
        "    tfidf_matrix = vectorizer.fit_transform(group['Название характеристики'])\n",
        "\n",
        "    cosine_similarities = cosine_similarity(tfidf_matrix)\n",
        "\n",
        "\n",
        "    characteristics_to_keep = [0]\n",
        "\n",
        "    for i in range(1, len(group)):\n",
        "        max_similarity = cosine_similarities[i, characteristics_to_keep].max()\n",
        "        if max_similarity < similarity_threshold:\n",
        "            characteristics_to_keep.append(i)\n",
        "\n",
        "    return group.iloc[characteristics_to_keep]\n",
        "\n",
        "cleaned_df = data_2.groupby('Наименование конечной категории Портала').apply(clean_characteristics).reset_index(drop=True)"
      ],
      "metadata": {
        "id": "DGFY05SSYQs_"
      },
      "execution_count": null,
      "outputs": []
    },
    {
      "cell_type": "code",
      "source": [
        "data_2.count()"
      ],
      "metadata": {
        "id": "N_bjD9V8d2aa",
        "colab": {
          "base_uri": "https://localhost:8080/"
        },
        "outputId": "0a26ab27-f1e1-493c-f0b4-4948724c722a"
      },
      "execution_count": null,
      "outputs": [
        {
          "output_type": "execute_result",
          "data": {
            "text/plain": [
              "ID характеристики                          718847\n",
              "Название характеристики                    718847\n",
              "ID конечной категории Портала              718847\n",
              "Наименование конечной категории Портала    718847\n",
              "dtype: int64"
            ]
          },
          "metadata": {},
          "execution_count": 9
        }
      ]
    },
    {
      "cell_type": "code",
      "source": [
        "cleaned_df.to_parquet('Характеристики.parquet')"
      ],
      "metadata": {
        "id": "3L1vsf5bp3nC"
      },
      "execution_count": null,
      "outputs": []
    }
  ]
}