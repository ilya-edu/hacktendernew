{
  "nbformat": 4,
  "nbformat_minor": 0,
  "metadata": {
    "colab": {
      "provenance": []
    },
    "kernelspec": {
      "name": "python3",
      "display_name": "Python 3"
    },
    "language_info": {
      "name": "python"
    }
  },
  "cells": [
    {
      "cell_type": "code",
      "execution_count": null,
      "metadata": {
        "id": "ljMgKKzNmuKo"
      },
      "outputs": [],
      "source": [
        "import pandas as pd\n",
        "import torch\n",
        "from sentence_transformers import SentenceTransformer, util\n",
        "from torch.utils.data import DataLoader, Dataset\n",
        "from torch import nn"
      ]
    },
    {
      "cell_type": "code",
      "source": [
        "df = pd.read_parquet('Характеристики.parquet')"
      ],
      "metadata": {
        "id": "DGFY05SSYQs_"
      },
      "execution_count": null,
      "outputs": []
    },
    {
      "cell_type": "code",
      "source": [
        "contexts = df['context'].tolist()"
      ],
      "metadata": {
        "id": "3L1vsf5bp3nC"
      },
      "execution_count": null,
      "outputs": []
    },
    {
      "cell_type": "code",
      "source": [
        "class ContextDataset(Dataset):\n",
        "    def __init__(self, contexts):\n",
        "        self.contexts = contexts\n",
        "\n",
        "    def __len__(self):\n",
        "        return len(self.contexts)\n",
        "\n",
        "    def __getitem__(self, idx):\n",
        "        return self.contexts[idx]\n",
        "\n",
        "dataset = ContextDataset(contexts)\n",
        "dataloader = DataLoader(dataset, batch_size=32, shuffle=True)"
      ],
      "metadata": {
        "id": "RPXLNaHhV3r3"
      },
      "execution_count": null,
      "outputs": []
    },
    {
      "cell_type": "code",
      "source": [
        "def contrastive_loss(embeddings, temperature=0.07):\n",
        "    embeddings = nn.functional.normalize(embeddings, dim=1)\n",
        "    similarity_matrix = torch.matmul(embeddings, embeddings.T)\n",
        "\n",
        "\n",
        "    mask = torch.eye(similarity_matrix.shape[0], dtype=torch.bool, device=similarity_matrix.device)\n",
        "\n",
        "    similarities = similarity_matrix[~mask].view(similarity_matrix.shape[0], -1)\n",
        "    similarities = similarities / temperature\n",
        "\n",
        "    targets = torch.arange(similarity_matrix.shape[0], device=similarity_matrix.device)\n",
        "    loss = nn.CrossEntropyLoss()(similarities, targets)\n",
        "\n",
        "    return loss"
      ],
      "metadata": {
        "id": "MkL7jLPhV5tH"
      },
      "execution_count": null,
      "outputs": []
    },
    {
      "cell_type": "code",
      "source": [
        "optimizer = torch.optim.Adam(model.parameters(), lr=1e-5)\n",
        "num_epochs = 10\n",
        "\n",
        "for epoch in range(num_epochs):\n",
        "    total_loss = 0\n",
        "\n",
        "    for batch in dataloader:\n",
        "        optimizer.zero_grad()\n",
        "\n",
        "        embeddings = model.encode(batch, convert_to_tensor=True)\n",
        "\n",
        "        loss = contrastive_loss(embeddings)\n",
        "\n",
        "        loss.backward()\n",
        "        optimizer.step()\n",
        "\n",
        "        total_loss += loss.item()\n",
        "\n",
        "    avg_loss = total_loss / len(dataloader)\n",
        "    print(f\"Epoch {epoch+1}/{num_epochs}, Loss: {avg_loss:.4f}\")"
      ],
      "metadata": {
        "id": "ukjuNZ8UV9Bc"
      },
      "execution_count": null,
      "outputs": []
    },
    {
      "cell_type": "code",
      "source": [
        "model.save(\"labse_contrastive\")"
      ],
      "metadata": {
        "id": "LugmbQQ2WGun"
      },
      "execution_count": null,
      "outputs": []
    }
  ]
}